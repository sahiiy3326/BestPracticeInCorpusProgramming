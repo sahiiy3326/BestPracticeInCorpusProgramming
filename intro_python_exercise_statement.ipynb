{
  "cells": [
    {
      "cell_type": "markdown",
      "metadata": {
        "id": "view-in-github",
        "colab_type": "text"
      },
      "source": [
        "<a href=\"https://colab.research.google.com/github/sahiiy3326/BestPracticeInCorpusProgramming/blob/master/intro_python_exercise_statement.ipynb\" target=\"_parent\"><img src=\"https://colab.research.google.com/assets/colab-badge.svg\" alt=\"Open In Colab\"/></a>"
      ]
    },
    {
      "cell_type": "markdown",
      "metadata": {
        "id": "TNlNrNpGxgDt"
      },
      "source": [
        "# Python Introduction Exercises"
      ]
    },
    {
      "cell_type": "markdown",
      "metadata": {
        "id": "qAUOxg8_xgDu"
      },
      "source": [
        "Table of contents\n",
        "1. [Development tools](#devtools)\n",
        "2. [Essentials in Python Language](#python_essentials)\n",
        "3. [Basic data types / structures](#data_structures)\n",
        "4. [Control flow structures](#control_structures)\n",
        "5. [Operators](#operators)\n",
        "6. [Conditions](#conditions)\n",
        "7. [Functions](#functions)\n",
        "8. [Lists comprehension](#lists_comprehension)\n",
        "9. [Format strings](#format_strings)\n",
        "10. [Pandas](#pandas)\n",
        "10. [Lambda functions](#lambda)\n",
        "11. [Objects](#objects)\n",
        "12. [Libraries](#libraries)"
      ]
    },
    {
      "cell_type": "markdown",
      "metadata": {
        "id": "pq_M5ODOxgDv"
      },
      "source": [
        "## Development tools<a class=anchor id=devtools></a>"
      ]
    },
    {
      "cell_type": "markdown",
      "metadata": {
        "id": "dlVSpJx0xgDv"
      },
      "source": [
        "### Interactive console"
      ]
    },
    {
      "cell_type": "markdown",
      "metadata": {
        "id": "sji9XvRdxgDw"
      },
      "source": [
        "- Open a terminal\n",
        "- Launch python interactive console\n",
        "    - python\n",
        "- Make it say 'hello'\n",
        "    - print('hello')"
      ]
    },
    {
      "cell_type": "markdown",
      "metadata": {
        "id": "1lpNg5d9xgDw"
      },
      "source": [
        "### Scripts"
      ]
    },
    {
      "cell_type": "markdown",
      "metadata": {
        "id": "iMtYEYKKxgDw"
      },
      "source": [
        "- Open a terminal\n",
        "- Go to Desktop\n",
        "    - chdir Desktop (Windows)\n",
        "    - cd Desktop (Mac, Linux)\n",
        "- Create a python script\n",
        "    - echo \"print('hello')\" > script.py\n",
        "- Launch the script\n",
        "    - python script.py"
      ]
    },
    {
      "cell_type": "markdown",
      "metadata": {
        "id": "XH3HPcUSxgDw"
      },
      "source": [
        "### Jupyter Notebook"
      ]
    },
    {
      "cell_type": "markdown",
      "metadata": {
        "id": "db_aVdr2xgDx"
      },
      "source": [
        "- Open a Jupyter Notebook\n",
        "    - https://jupyter.org/try (online)\n",
        "- Add a code cell\n",
        "- Make it say 'hello'\n",
        "    - print('hello')\n",
        "- run the cell\n",
        "    - click 'Run' > 'Run selected cells'"
      ]
    },
    {
      "cell_type": "markdown",
      "metadata": {
        "id": "2qKeNVRLxgDx"
      },
      "source": [
        "## Essentials in Python Language<a class=anchor id=python_essentials></a>\n",
        "Do the following exercises in a Jupyter Notebook"
      ]
    },
    {
      "cell_type": "code",
      "execution_count": null,
      "metadata": {
        "id": "fgj_aUJoxgDx"
      },
      "outputs": [],
      "source": [
        "# Modules, Libraries\n",
        "import pandas as pd\n",
        "import numpy as np\n",
        "import datetime\n",
        "import truc"
      ]
    },
    {
      "cell_type": "markdown",
      "metadata": {
        "id": "AXwoWMh2xgDx"
      },
      "source": [
        "## Basic data types / structures<a class=anchor id=data_structures></a>"
      ]
    },
    {
      "cell_type": "code",
      "execution_count": null,
      "metadata": {
        "id": "MM237hrpxgDy"
      },
      "outputs": [],
      "source": [
        "# Text and numbers\n",
        "12         # int (integer)\n",
        "1.5        # float\n",
        "'hola'     # str (string)\n",
        "\"hola\"\n",
        "\"\"\"hola\"\"\"\n",
        "\n",
        "# Iterables\n",
        "[42, 58, 209, 42]  # list\n",
        "(42, 58, 209, 42)  # tuple\n",
        "{42, 58, 209}      # set\n",
        "{'name': ['akiko', 'julie'], 'age': [12, 43]}  # dict (dictionary)"
      ]
    },
    {
      "cell_type": "markdown",
      "metadata": {
        "id": "mZKzLSQgxgDy"
      },
      "source": [
        "--------------------------------\n",
        "Question\n",
        "\n",
        "1. Create an integer of value 12\n",
        "2. Create a float of value 12\n",
        "3. Create a string containing: 12"
      ]
    },
    {
      "cell_type": "code",
      "execution_count": null,
      "metadata": {
        "colab": {
          "base_uri": "https://localhost:8080/"
        },
        "id": "D2bsfR8lxgDy",
        "outputId": "a428830a-4dd1-491a-f30c-5e5b6a9f7ce6"
      },
      "outputs": [
        {
          "output_type": "stream",
          "name": "stdout",
          "text": [
            "12\n",
            "12\n",
            "12.0\n"
          ]
        }
      ],
      "source": [
        "### =====                ==== ####\n",
        "###       YOUR CODE HERE      ####\n",
        "### =====                ==== ####\n",
        "12\n",
        "\"12\"\n",
        "12.0\n"
      ]
    },
    {
      "cell_type": "markdown",
      "metadata": {
        "id": "igMdCRlaxgDy"
      },
      "source": [
        "--------------------------------\n",
        "Question\n",
        "\n",
        "1. Create a list containing: 12, 13, 14\n",
        "3. Create a dictionary with:\n",
        "    - key (only 1): emotion\n",
        "    - values (3): happy, sad, excited"
      ]
    },
    {
      "cell_type": "code",
      "execution_count": null,
      "metadata": {
        "id": "e6ylcM9QxgDy"
      },
      "outputs": [],
      "source": [
        "### =====                ==== ####\n",
        "###       YOUR CODE HERE      ####\n",
        "### =====                ==== ####\n",
        "\n"
      ]
    },
    {
      "cell_type": "code",
      "execution_count": null,
      "metadata": {
        "id": "VzpQhvQyxgDy"
      },
      "outputs": [],
      "source": [
        "# Get unique values from a list using the set function\n",
        "l = [42, 58, 58, 58, 209, 42, 42, 42]\n",
        "set(l)"
      ]
    },
    {
      "cell_type": "markdown",
      "metadata": {
        "id": "-F2e1VRhxgDy"
      },
      "source": [
        "--------------------------------\n",
        "Question\n",
        "\n",
        "1. Create a list containing: 12, 13, 14, 12\n",
        "2. Store the list into a variable named: lst\n",
        "3. Get unique values from the list"
      ]
    },
    {
      "cell_type": "code",
      "execution_count": null,
      "metadata": {
        "id": "x8bkhseIxgDy"
      },
      "outputs": [],
      "source": [
        "### =====                ==== ####\n",
        "###       YOUR CODE HERE      ####\n",
        "### =====                ==== ####\n",
        "\n"
      ]
    },
    {
      "cell_type": "markdown",
      "metadata": {
        "id": "StLOI1K8xgDy"
      },
      "source": [
        "### Dictionaries\n",
        "\n",
        "Ensemble of pairs: (key, value)"
      ]
    },
    {
      "cell_type": "code",
      "execution_count": null,
      "metadata": {
        "id": "vW_5IW_RxgDy"
      },
      "outputs": [],
      "source": [
        "# Different (legal as to PEP8) ways to create the dictionary\n",
        "dico = {'surname': ['jp', 'pa', 'ma', 'fo'], 'name': ['aba', 'chd', 'oih', 'iouh'], 'age': [12, 23, 40, 8]}\n",
        "\n",
        "dico = {'surname': ['jp', 'pa', 'ma', 'fo'],\n",
        "        'name': ['aba', 'chd', 'oih', 'iouh'],\n",
        "        'age': [12, 23, 40, 8]}\n",
        "\n",
        "dico = {\n",
        "    'surname': ['jp', 'pa', 'ma', 'fo'],\n",
        "    'name': ['aba', 'chd', 'oih', 'iouh'],\n",
        "    'age': [12, 23, 40, 8],\n",
        "}\n",
        "\n",
        "dico"
      ]
    },
    {
      "cell_type": "markdown",
      "metadata": {
        "id": "IpI1s39oxgDz"
      },
      "source": [
        "--------------------------------\n",
        "Question\n",
        "\n",
        "1. Create a dictionary named dico_stu containing:\n",
        "    - keys: pilou, balo, pata, mani, tika\n",
        "    - respective values of their age: 120, 140, 145, 110, 115\n",
        "\n",
        "Becareful the form of this dictionary is slightly different from above:\n",
        "- Above example: 3 keys with 4 values each\n",
        "- This question: 5 keys with 1 value each"
      ]
    },
    {
      "cell_type": "code",
      "execution_count": null,
      "metadata": {
        "id": "8W0SAwPxxgDz"
      },
      "outputs": [],
      "source": [
        "### =====                ==== ####\n",
        "###       YOUR CODE HERE      ####\n",
        "### =====                ==== ####\n",
        "\n"
      ]
    },
    {
      "cell_type": "markdown",
      "metadata": {
        "id": "4500MNgqxgDz"
      },
      "source": [
        "#### Extract info from dictionary"
      ]
    },
    {
      "cell_type": "code",
      "execution_count": null,
      "metadata": {
        "id": "xntAlRUmxgDz"
      },
      "outputs": [],
      "source": [
        "dico['surname']"
      ]
    },
    {
      "cell_type": "code",
      "execution_count": null,
      "metadata": {
        "id": "mXWBo09axgDz"
      },
      "outputs": [],
      "source": [
        "dico['name']"
      ]
    },
    {
      "cell_type": "markdown",
      "metadata": {
        "id": "WE8pFBSexgDz"
      },
      "source": [
        "--------------------------------\n",
        "Question\n",
        "\n",
        "1. Get the age of pata\n",
        "2. Get the age of tika"
      ]
    },
    {
      "cell_type": "code",
      "execution_count": null,
      "metadata": {
        "id": "3rwxhex2xgDz"
      },
      "outputs": [],
      "source": [
        "### =====                ==== ####\n",
        "###       YOUR CODE HERE      ####\n",
        "### =====                ==== ####\n",
        "\n"
      ]
    },
    {
      "cell_type": "code",
      "execution_count": null,
      "metadata": {
        "id": "P5S6qPmQxgDz"
      },
      "outputs": [],
      "source": [
        "dico.items()"
      ]
    },
    {
      "cell_type": "code",
      "execution_count": null,
      "metadata": {
        "id": "hKKUDHKJxgDz"
      },
      "outputs": [],
      "source": [
        "dico.keys()"
      ]
    },
    {
      "cell_type": "code",
      "execution_count": null,
      "metadata": {
        "id": "2jyT-0ofxgDz"
      },
      "outputs": [],
      "source": [
        "dico.values()"
      ]
    },
    {
      "cell_type": "markdown",
      "metadata": {
        "id": "7fWiG9azxgD0"
      },
      "source": [
        "#### Add info to dicotionary"
      ]
    },
    {
      "cell_type": "code",
      "execution_count": null,
      "metadata": {
        "id": "vuMMHEZgxgD0"
      },
      "outputs": [],
      "source": [
        "# Add a key with its value\n",
        "dico['origin'] = 'earth'"
      ]
    },
    {
      "cell_type": "code",
      "execution_count": null,
      "metadata": {
        "id": "XMXWLYeFxgD0"
      },
      "outputs": [],
      "source": [
        "# Add value to existing key\n",
        "# Possible if the value is a list\n",
        "dico['age'].append(43)"
      ]
    },
    {
      "cell_type": "code",
      "execution_count": null,
      "metadata": {
        "id": "Qt3uKDiUxgD0"
      },
      "outputs": [],
      "source": [
        "dico"
      ]
    },
    {
      "cell_type": "markdown",
      "metadata": {
        "id": "5ErEW3PmxgD0"
      },
      "source": [
        "We observe that lists of the dictionary do not need to be of same length.\n",
        "\n",
        "Actually, we could add any object in each value"
      ]
    },
    {
      "cell_type": "code",
      "execution_count": null,
      "metadata": {
        "id": "rEi6Gy9gxgD0"
      },
      "outputs": [],
      "source": [
        "dico['country'] = 'a'"
      ]
    },
    {
      "cell_type": "code",
      "execution_count": null,
      "metadata": {
        "id": "FJb37LeexgD0"
      },
      "outputs": [],
      "source": [
        "dico"
      ]
    },
    {
      "cell_type": "code",
      "execution_count": null,
      "metadata": {
        "id": "fPjAhRaHxgD5"
      },
      "outputs": [],
      "source": [
        "# Replace existing key/values\n",
        "dico['country'] = ['fr', 'gb', 'us', 'es']"
      ]
    },
    {
      "cell_type": "code",
      "execution_count": null,
      "metadata": {
        "id": "7ds4dVyAxgD6"
      },
      "outputs": [],
      "source": [
        "dico"
      ]
    },
    {
      "cell_type": "code",
      "execution_count": null,
      "metadata": {
        "id": "DK1ITRktxgD6"
      },
      "outputs": [],
      "source": [
        "# Add a new key with a function (in a list) as value\n",
        "dico['objects'] = [truc.truc]"
      ]
    },
    {
      "cell_type": "code",
      "execution_count": null,
      "metadata": {
        "id": "s9ThnZpAxgD6"
      },
      "outputs": [],
      "source": [
        "dico"
      ]
    },
    {
      "cell_type": "code",
      "execution_count": null,
      "metadata": {
        "id": "EwP25DrCxgD6"
      },
      "outputs": [],
      "source": [
        "# Chaining operations\n",
        "print(dico['objects'])  # but is within parenthesis\n",
        "print(dico['objects'][0])  # extract the first (and only) element of the list\n",
        "print(dico['objects'][0]())  # execute the function (ref)"
      ]
    },
    {
      "cell_type": "code",
      "execution_count": null,
      "metadata": {
        "id": "sU12QpTNxgD6"
      },
      "outputs": [],
      "source": [
        "# It became complicated because the value is a function\n",
        "# which requires parenthesis to be executed\n",
        "truc.truc"
      ]
    },
    {
      "cell_type": "markdown",
      "metadata": {
        "id": "T_5NWfoCxgD6"
      },
      "source": [
        "--------------------------------\n",
        "Question\n",
        "\n",
        "1. Add new pairs of key/value:\n",
        "- keys: bibi, theo\n",
        "- respective values: 130, 140\n",
        "2. Change the value of existing key/values:\n",
        "- set pilou at 121\n",
        "- set balo at 141"
      ]
    },
    {
      "cell_type": "code",
      "execution_count": null,
      "metadata": {
        "id": "9RZkubtMxgD6"
      },
      "outputs": [],
      "source": [
        "### =====                ==== ####\n",
        "###       YOUR CODE HERE      ####\n",
        "### =====                ==== ####\n",
        "\n"
      ]
    },
    {
      "cell_type": "markdown",
      "metadata": {
        "id": "1lwPizn7xgD6"
      },
      "source": [
        "## Control flow structures<a class=anchor id=control_structures></a>"
      ]
    },
    {
      "cell_type": "markdown",
      "metadata": {
        "id": "wEWMTgZ1xgD6"
      },
      "source": [
        "for loop"
      ]
    },
    {
      "cell_type": "code",
      "execution_count": null,
      "metadata": {
        "id": "IXI6vYKGxgD6"
      },
      "outputs": [],
      "source": [
        "# With simple list\n",
        "for i in [2, 54, 39]:\n",
        "    print(i)"
      ]
    },
    {
      "cell_type": "code",
      "execution_count": null,
      "metadata": {
        "id": "m_SP936LxgD6"
      },
      "outputs": [],
      "source": [
        "# With dictionaries\n",
        "for i in dico.items():\n",
        "    print(\"Ceci est une nouvelle ligne\", i)\n",
        "\n",
        "\n",
        "print()\n",
        "for i in dico.items():\n",
        "    print(\"Ceci est une nouvelle ligne\", *i)  # * unroll iterables"
      ]
    },
    {
      "cell_type": "code",
      "execution_count": null,
      "metadata": {
        "id": "FwJQlKxUxgD6"
      },
      "outputs": [],
      "source": [
        "for key in dico:\n",
        "    print(dico[key][0])\n",
        "\n",
        "for key in dico.keys():\n",
        "    print(dico[key][0])"
      ]
    },
    {
      "cell_type": "code",
      "execution_count": null,
      "metadata": {
        "id": "b5haUm8nxgD6"
      },
      "outputs": [],
      "source": [
        "for val in dico['age']:\n",
        "    print(val)"
      ]
    },
    {
      "cell_type": "markdown",
      "metadata": {
        "id": "MspO1LQTxgD6"
      },
      "source": [
        "--------------------------------\n",
        "Question\n",
        "\n",
        "1. Print a line for each key in the dictionary following the form:\n",
        "- pilou is 120 tall\n",
        "- balo is 140 tall\n",
        "- etc."
      ]
    },
    {
      "cell_type": "code",
      "execution_count": null,
      "metadata": {
        "id": "vKpQfGASxgD7"
      },
      "outputs": [],
      "source": [
        "### =====                ==== ####\n",
        "###       YOUR CODE HERE      ####\n",
        "### =====                ==== ####\n",
        "\n"
      ]
    },
    {
      "cell_type": "markdown",
      "metadata": {
        "id": "UaBqCIDRxgD7"
      },
      "source": [
        "## Operators<a class=anchor id=operators></a>"
      ]
    },
    {
      "cell_type": "markdown",
      "metadata": {
        "id": "cEs7i2gMxgD7"
      },
      "source": [
        "Class methods:\n",
        "- Greater than \\_\\_gt\\_\\_\n",
        "- Lower than \\_\\_lt\\_\\_"
      ]
    },
    {
      "cell_type": "code",
      "execution_count": null,
      "metadata": {
        "id": "eaBQL1ttxgD7"
      },
      "outputs": [],
      "source": [
        "print('a' + 'b')\n",
        "print('a'.__add__('b'))"
      ]
    },
    {
      "cell_type": "code",
      "execution_count": null,
      "metadata": {
        "id": "ZFMTzKXnxgD7"
      },
      "outputs": [],
      "source": [
        "print(1 > 2)\n",
        "print(1 < 2)\n",
        "print(1 < 1)\n",
        "print('a' < 'b')\n",
        "print('a' > 'b')\n",
        "print([1] < [2, 3])\n",
        "print([1] > [2, 3])"
      ]
    },
    {
      "cell_type": "markdown",
      "metadata": {
        "id": "LkhzE4-ZxgD7"
      },
      "source": [
        "Class methods:\n",
        "- Greater than or equal to \\_\\_ge\\_\\_\n",
        "- Lower than or equal to \\_\\_le\\_\\_"
      ]
    },
    {
      "cell_type": "code",
      "execution_count": null,
      "metadata": {
        "id": "Kc99rumSxgD7"
      },
      "outputs": [],
      "source": [
        "print(1 >= 2)\n",
        "print(1 <= 2)\n",
        "print(1 <= 1)"
      ]
    },
    {
      "cell_type": "markdown",
      "metadata": {
        "id": "rmyXTNVFxgD7"
      },
      "source": [
        "Class methods:\n",
        "- Equal to \\_\\_eq\\_\\_\n",
        "- Different from \\_\\_ne\\_\\_"
      ]
    },
    {
      "cell_type": "code",
      "execution_count": null,
      "metadata": {
        "id": "uu0Dt41YxgD7"
      },
      "outputs": [],
      "source": [
        "print(1 == 2)\n",
        "print(1 != 2)\n",
        "print(1 == 1)\n",
        "print(1 != 1)"
      ]
    },
    {
      "cell_type": "markdown",
      "metadata": {
        "id": "w5Eo6kQ2xgD7"
      },
      "source": [
        "--------------------------------\n",
        "Question\n",
        "\n",
        "1. Is bibi taller than theo?\n",
        "2. Is pilou smaller than balo?\n",
        "3. Is tika as tall as pata?\n",
        "4. Is mani of different size than pilou?"
      ]
    },
    {
      "cell_type": "code",
      "execution_count": null,
      "metadata": {
        "id": "FPAms_OjxgD7"
      },
      "outputs": [],
      "source": [
        "### =====                ==== ####\n",
        "###       YOUR CODE HERE      ####\n",
        "### =====                ==== ####\n",
        "\n"
      ]
    },
    {
      "cell_type": "markdown",
      "metadata": {
        "id": "JgYzbU3vxgD7"
      },
      "source": [
        "Class method:\n",
        "- Find element in object \\_\\_contains\\_\\_\n",
        "\n",
        "Available in iterables, not in numbers."
      ]
    },
    {
      "cell_type": "code",
      "execution_count": null,
      "metadata": {
        "id": "J1C9UI7sxgD7"
      },
      "outputs": [],
      "source": [
        "print(1 in [1, 4, 2])\n",
        "print(1 in [4, 2])\n",
        "print([1] in [1, 4, 2])\n",
        "print([1] in [[1], 4, 2])\n",
        "print('a' in 'oisj')\n",
        "print('a' in 'oiasj')"
      ]
    },
    {
      "cell_type": "markdown",
      "metadata": {
        "id": "2pYSO11lxgD7"
      },
      "source": [
        "Not a class method:\n",
        "- Check if element is (True, False, None, np.nan)"
      ]
    },
    {
      "cell_type": "code",
      "execution_count": null,
      "metadata": {
        "id": "KyPZGG-uxgD8"
      },
      "outputs": [],
      "source": [
        "print(True is True)\n",
        "print(True is False)\n",
        "\n",
        "print([1] is None)\n",
        "x = 12\n",
        "print(x is None)\n",
        "x = None\n",
        "print(x is None)\n",
        "\n",
        "import numpy as np\n",
        "print(x is np.nan)"
      ]
    },
    {
      "cell_type": "markdown",
      "metadata": {
        "id": "0chULog8xgD8"
      },
      "source": [
        "Negation operator:\n",
        "- not\n",
        "- ~"
      ]
    },
    {
      "cell_type": "code",
      "execution_count": null,
      "metadata": {
        "id": "NDJS2NK0xgD8"
      },
      "outputs": [],
      "source": [
        "x = 0\n",
        "if ~(x < 2):\n",
        "    print(\"ok\")"
      ]
    },
    {
      "cell_type": "code",
      "execution_count": null,
      "metadata": {
        "id": "6AJO_KPRxgD8"
      },
      "outputs": [],
      "source": [
        "print(1 == 1)\n",
        "print(not 1 == 1)\n",
        "print(~ 1 == 1)\n",
        "print(1 != 1)\n",
        "print(not 1 != 1)\n",
        "print(~ 1 != 1)"
      ]
    },
    {
      "cell_type": "markdown",
      "metadata": {
        "id": "MN5iEYvcxgD8"
      },
      "source": [
        "View an object internal methods"
      ]
    },
    {
      "cell_type": "code",
      "execution_count": null,
      "metadata": {
        "id": "hh7cq4i8xgD8"
      },
      "outputs": [],
      "source": [
        "dir(3)[:10]\n",
        "# dir([1, 2, 3])"
      ]
    },
    {
      "cell_type": "markdown",
      "metadata": {
        "id": "kE6OYPGPxgD8"
      },
      "source": [
        "All these operators return boolean values (True / False). In Pandas, this will help us build \"masks\" (filters)"
      ]
    },
    {
      "cell_type": "markdown",
      "metadata": {
        "id": "0ILhc2l6xgD8"
      },
      "source": [
        "--------------------------------\n",
        "Question\n",
        "\n",
        "1. Check whether pilou is an element of dico_stu\n",
        "2. Check whether pila is an element of dico_stu\n",
        "3. Check whether mani is NOT an element of dico_stu\n",
        "4. Check whether mana is NOT an element of dico_stu\n",
        "5. Store the first result in a variable named pilou_in_dico_stu\n",
        "6. Check whether pilou_in_dico_stu is True"
      ]
    },
    {
      "cell_type": "code",
      "execution_count": null,
      "metadata": {
        "id": "SJqYcghKxgD8"
      },
      "outputs": [],
      "source": [
        "### =====                ==== ####\n",
        "###       YOUR CODE HERE      ####\n",
        "### =====                ==== ####\n",
        "\n"
      ]
    },
    {
      "cell_type": "markdown",
      "metadata": {
        "id": "0xGygClexgD8"
      },
      "source": [
        "## Conditions<a class=anchor id=conditions></a>"
      ]
    },
    {
      "cell_type": "markdown",
      "metadata": {
        "id": "NpoUMMaJxgD8"
      },
      "source": [
        "Simple \"if, else\" condition"
      ]
    },
    {
      "cell_type": "code",
      "execution_count": null,
      "metadata": {
        "id": "hGkU7YyRxgD8"
      },
      "outputs": [],
      "source": [
        "x = 3\n",
        "\n",
        "if x == 3:\n",
        "    print(\"Yes, x is equal to 3\")\n",
        "else:\n",
        "    print(\"No, x is not equal to 3\")"
      ]
    },
    {
      "cell_type": "markdown",
      "metadata": {
        "id": "SaiNgFQBxgD8"
      },
      "source": [
        "If is not None"
      ]
    },
    {
      "cell_type": "code",
      "execution_count": null,
      "metadata": {
        "id": "b7bhGeiIxgD8"
      },
      "outputs": [],
      "source": [
        "if x != None:\n",
        "    print(x)\n",
        "else:\n",
        "    print(\"Not possible\")"
      ]
    },
    {
      "cell_type": "markdown",
      "metadata": {
        "id": "3B7Zw5O8xgD8"
      },
      "source": [
        "Better way to write, if is not None"
      ]
    },
    {
      "cell_type": "code",
      "execution_count": null,
      "metadata": {
        "id": "Y1hR4-ITxgD8"
      },
      "outputs": [],
      "source": [
        "if x:\n",
        "    print(x)\n",
        "else:\n",
        "    print(\"Not possible\")"
      ]
    },
    {
      "cell_type": "markdown",
      "metadata": {
        "id": "uL5XR5BuxgD9"
      },
      "source": [
        "--------------------------------\n",
        "Question\n",
        "\n",
        "1. Create a variable named: stu\n",
        "2. Set this variable to: mani (you will change the value later)\n",
        "3. Create a code that says:\n",
        "- [name] is in dico_stu (if the name is in the dico_stu)\n",
        "- [name] is not in dico_stu (if the name is not in the dico_stu)\n",
        "\n",
        "e.g.:\n",
        "\n",
        "```mani is in dico_stu```\n",
        "\n",
        "```mana is not in dico_stu```\n",
        "\n",
        "This should work for any value of stu."
      ]
    },
    {
      "cell_type": "code",
      "execution_count": null,
      "metadata": {
        "id": "MuFEEStBxgD9"
      },
      "outputs": [],
      "source": [
        "### =====                ==== ####\n",
        "###       YOUR CODE HERE      ####\n",
        "### =====                ==== ####\n",
        "\n"
      ]
    },
    {
      "cell_type": "markdown",
      "metadata": {
        "id": "cNXxLOvcxgD9"
      },
      "source": [
        "--------------------------------\n",
        "Question\n",
        "\n",
        "1. Create a variable named: stu_size\n",
        "2. Set this variable to: 120\n",
        "3. Create a code that says:\n",
        "- [name] is smaller than 120 (if the value corresponding to the name is indeed smaller than 120)\n",
        "\n",
        "The code should output:\n",
        "```\n",
        "mani is smaller than 120\n",
        "tika is smaller than 120\n",
        "```"
      ]
    },
    {
      "cell_type": "code",
      "execution_count": null,
      "metadata": {
        "id": "EB-aL6DjxgD9"
      },
      "outputs": [],
      "source": [
        "### =====                ==== ####\n",
        "###       YOUR CODE HERE      ####\n",
        "### =====                ==== ####\n",
        "\n"
      ]
    },
    {
      "cell_type": "markdown",
      "metadata": {
        "id": "f8jiRT0SxgD9"
      },
      "source": [
        "## Functions<a class=anchor id=functions></a>"
      ]
    },
    {
      "cell_type": "markdown",
      "metadata": {
        "id": "ZgzbXDUVxgD9"
      },
      "source": [
        "Functions can:\n",
        "- take no, to many arguments\n",
        "- arguments can be \"Positional\" or \"Keyword\" arguments\n",
        "- return nothing (None) or anything (to many things)\n",
        "- synonyms: arguments / parameters / inputs\n",
        "\n",
        "One must:\n",
        "- Define the function\n",
        "- Call the function"
      ]
    },
    {
      "cell_type": "markdown",
      "metadata": {
        "id": "tKbcnwrXxgD9"
      },
      "source": [
        "Simplest form:\n",
        "- No argument required\n",
        "- No return"
      ]
    },
    {
      "cell_type": "code",
      "execution_count": null,
      "metadata": {
        "id": "-NoZn7DcxgD9"
      },
      "outputs": [],
      "source": [
        "# Define the function\n",
        "def say_something():\n",
        "    print(\"Something\")\n",
        "\n",
        "# Call the function\n",
        "say_something()"
      ]
    },
    {
      "cell_type": "markdown",
      "metadata": {
        "id": "z5TF0cWkxgD9"
      },
      "source": [
        "Function with:\n",
        "- an argument\n",
        "- no return"
      ]
    },
    {
      "cell_type": "code",
      "execution_count": null,
      "metadata": {
        "id": "MvG_FDwaxgD9"
      },
      "outputs": [],
      "source": [
        "def say_my_name(name):\n",
        "    print(name)\n",
        "\n",
        "say_my_name(\"Alexis\")"
      ]
    },
    {
      "cell_type": "markdown",
      "metadata": {
        "id": "wFeefCCNxgD9"
      },
      "source": [
        "Function with:\n",
        "- an argument\n",
        "- a return"
      ]
    },
    {
      "cell_type": "code",
      "execution_count": null,
      "metadata": {
        "id": "dKuoGERUxgD9"
      },
      "outputs": [],
      "source": [
        "def square(x):\n",
        "    return x**2\n",
        "\n",
        "result = square(4)\n",
        "result"
      ]
    },
    {
      "cell_type": "markdown",
      "metadata": {
        "id": "wJABhef-xgD9"
      },
      "source": [
        "Function with:\n",
        "- multiple arguments\n",
        "- a return"
      ]
    },
    {
      "cell_type": "code",
      "execution_count": null,
      "metadata": {
        "id": "diRj4w5HxgD9"
      },
      "outputs": [],
      "source": [
        "def add(a, b, c):\n",
        "    return a + b + c\n",
        "\n",
        "result = add(4, 2, 9)\n",
        "result"
      ]
    },
    {
      "cell_type": "markdown",
      "metadata": {
        "id": "C22EkqAYxgD9"
      },
      "source": [
        "Function with:\n",
        "- no argument\n",
        "- multiple returns"
      ]
    },
    {
      "cell_type": "code",
      "execution_count": null,
      "metadata": {
        "id": "v4xtC57XxgD-"
      },
      "outputs": [],
      "source": [
        "def return_many_things():\n",
        "    return 'alexis', 'bogroff', 'data'\n",
        "\n",
        "return_many_things()"
      ]
    },
    {
      "cell_type": "code",
      "execution_count": null,
      "metadata": {
        "id": "U_pjn9fNxgD-"
      },
      "outputs": [],
      "source": [
        "# Get the result in separate variables\n",
        "r_1, r_2, r_3 = return_many_things()\n",
        "print(r_1)\n",
        "print(r_2)\n",
        "print(r_3)"
      ]
    },
    {
      "cell_type": "markdown",
      "metadata": {
        "id": "7pZ2aUJUxgD-"
      },
      "source": [
        "Function with:\n",
        "- a keyword argument\n",
        "    - is thus optional\n",
        "    - must be positioned after the positional arguments\n",
        "- no return"
      ]
    },
    {
      "cell_type": "code",
      "execution_count": null,
      "metadata": {
        "id": "NpFiBKrOxgD-"
      },
      "outputs": [],
      "source": [
        "def say_what_you_doing(name, course='data'):\n",
        "    print(f\"{name} doing {course}\")\n",
        "\n",
        "say_what_you_doing(\"Alexis\")\n",
        "say_what_you_doing(\"Alexis\", \"writing the course\")"
      ]
    },
    {
      "cell_type": "markdown",
      "metadata": {
        "id": "4SscrfIfxgD-"
      },
      "source": [
        "Function with:\n",
        "- a (positional) argument awaiting a function\n",
        "- no return"
      ]
    },
    {
      "cell_type": "code",
      "execution_count": null,
      "metadata": {
        "id": "BmuYWD8-xgD-"
      },
      "outputs": [],
      "source": [
        "def complex_fct(func):\n",
        "    print(\"This function will say\")\n",
        "    func()\n",
        "\n",
        "complex_fct(say_something)"
      ]
    },
    {
      "cell_type": "markdown",
      "metadata": {
        "id": "N_oAw_dzxgD-"
      },
      "source": [
        "--------------------------------\n",
        "Question\n",
        "\n",
        "1. Create a function named: salutation\n",
        "2. Make the function say: hello\n",
        "3. Call the function"
      ]
    },
    {
      "cell_type": "code",
      "execution_count": null,
      "metadata": {
        "id": "s3b9pY_5xgD-"
      },
      "outputs": [],
      "source": [
        "### =====                ==== ####\n",
        "###       YOUR CODE HERE      ####\n",
        "### =====                ==== ####\n",
        "\n"
      ]
    },
    {
      "cell_type": "markdown",
      "metadata": {
        "id": "lnnKsFFtxgD-"
      },
      "source": [
        "--------------------------------\n",
        "Question\n",
        "\n",
        "1. Create a function named: salutation_perso\n",
        "2. The function should take an argument named: surname\n",
        "2. Make the function say: hello [surname]\n",
        "3. Call the function\n",
        "\n",
        "e.g. with a surname set to alexis, the function should return:\n",
        "```\n",
        "hello alexis\n",
        "```"
      ]
    },
    {
      "cell_type": "code",
      "execution_count": null,
      "metadata": {
        "id": "cnjuL0-MxgD-"
      },
      "outputs": [],
      "source": [
        "### =====                ==== ####\n",
        "###       YOUR CODE HERE      ####\n",
        "### =====                ==== ####\n",
        "\n"
      ]
    },
    {
      "cell_type": "markdown",
      "metadata": {
        "id": "S_Wez82LxgD-"
      },
      "source": [
        "--------------------------------\n",
        "Question\n",
        "\n",
        "1. Create a function named: get_small_stu\n",
        "2. The function should take a dictionary as argument named: students\n",
        "2. Make the function return a tuple containing the a pair of key/value where the value is smaller than 120\n",
        "3. Call the function by passing your previous dictionary (dico_stu) as argument\n",
        "\n",
        "e.g. for the above input, the function could return:\n",
        "```\n",
        "('mani', 110)\n",
        "```"
      ]
    },
    {
      "cell_type": "code",
      "execution_count": null,
      "metadata": {
        "id": "CAlzcDaixgD-"
      },
      "outputs": [],
      "source": [
        "### =====                ==== ####\n",
        "###       YOUR CODE HERE      ####\n",
        "### =====                ==== ####\n",
        "\n"
      ]
    },
    {
      "cell_type": "markdown",
      "metadata": {
        "id": "ZDigEVjoxgD-"
      },
      "source": [
        "## Lists comprehension<a class=anchor id=lists_comprehension></a>"
      ]
    },
    {
      "cell_type": "markdown",
      "metadata": {
        "id": "f5n8Bw9LxgD-"
      },
      "source": [
        "The standard way to create a list from a loop"
      ]
    },
    {
      "cell_type": "code",
      "execution_count": null,
      "metadata": {
        "id": "blDSA5csxgD_"
      },
      "outputs": [],
      "source": [
        "l_loop = []\n",
        "for i in range(10000):\n",
        "    l_loop.append(i**2)"
      ]
    },
    {
      "cell_type": "markdown",
      "metadata": {
        "id": "cW7hY9e3xgD_"
      },
      "source": [
        "The efficient way, list comprehension\n",
        "\n",
        "Advantage:\n",
        "- one liner\n",
        "- more efficient computation (faster)\n",
        "\n",
        "Disadvantages:\n",
        "- less readable\n",
        "- not possible for complex operations within the loop"
      ]
    },
    {
      "cell_type": "code",
      "execution_count": null,
      "metadata": {
        "id": "RPDBl81wxgD_"
      },
      "outputs": [],
      "source": [
        "l_comprehension = [i+10 for i in [1, 4, 2, 9, 4]]\n",
        "l_comprehension"
      ]
    },
    {
      "cell_type": "code",
      "execution_count": null,
      "metadata": {
        "id": "dWCStTH7xgD_"
      },
      "outputs": [],
      "source": [
        "# Generate complex elements in the list\n",
        "l_comprehension = [('a', i, i+10) for i in [1, 4, 2, 9, 4]]\n",
        "l_comprehension"
      ]
    },
    {
      "cell_type": "code",
      "execution_count": null,
      "metadata": {
        "id": "hwUW74BExgD_"
      },
      "outputs": [],
      "source": [
        "# Use range to create a long list\n",
        "l_comprehension = [i**2 for i in range(10000)]\n",
        "l_comprehension[:5]"
      ]
    },
    {
      "cell_type": "markdown",
      "metadata": {
        "id": "cMP1EoLtxgD_"
      },
      "source": [
        "Use a condition"
      ]
    },
    {
      "cell_type": "code",
      "execution_count": null,
      "metadata": {
        "id": "4PdusAWJxgD_"
      },
      "outputs": [],
      "source": [
        "l_comprehension = [i**2 for i in range(10000) if i%10==0]\n",
        "l_comprehension[:5]"
      ]
    },
    {
      "cell_type": "markdown",
      "metadata": {
        "id": "EYACEkAkxgD_"
      },
      "source": [
        "Use a more complex condition (it requires to write the if at the beginning)"
      ]
    },
    {
      "cell_type": "code",
      "execution_count": null,
      "metadata": {
        "id": "Fupuu62oxgD_"
      },
      "outputs": [],
      "source": [
        "l_comprehension = [i**2 if i%2==0 else i for i in range(10000)]\n",
        "l_comprehension[:5]"
      ]
    },
    {
      "cell_type": "markdown",
      "metadata": {
        "id": "HKlXUCsBxgD_"
      },
      "source": [
        "--------------------------------\n",
        "Question\n",
        "\n",
        "1. Write a list comprehension that generates the following output (using your dictionary dico_stu)\n",
        "\n",
        "```\n",
        "['Student pilou is 121 tall',\n",
        " 'Student balo is 141 tall',\n",
        " 'Student pata is 145 tall',\n",
        " 'Student mani is 110 tall',\n",
        " 'Student tika is 115 tall',\n",
        " 'Student bibi is 130 tall',\n",
        " 'Student theo is 140 tall']\n",
        "```"
      ]
    },
    {
      "cell_type": "code",
      "execution_count": null,
      "metadata": {
        "id": "L_hIbUSLxgD_"
      },
      "outputs": [],
      "source": [
        "### =====                ==== ####\n",
        "###       YOUR CODE HERE      ####\n",
        "### =====                ==== ####\n",
        "\n"
      ]
    },
    {
      "cell_type": "markdown",
      "metadata": {
        "id": "QLRmgSXJxgD_"
      },
      "source": [
        "--------------------------------\n",
        "Question\n",
        "\n",
        "1. Modify your list comprehension in order to generate only sentences for students taller than 115\n",
        "\n",
        "It should generate the following list\n",
        "```\n",
        "['Student balo is 141 tall',\n",
        " 'Student pata is 145 tall',\n",
        " 'Student theo is 140 tall']\n",
        "```"
      ]
    },
    {
      "cell_type": "code",
      "execution_count": null,
      "metadata": {
        "id": "StH0sbKKxgD_"
      },
      "outputs": [],
      "source": [
        "### =====                ==== ####\n",
        "###       YOUR CODE HERE      ####\n",
        "### =====                ==== ####\n",
        "\n"
      ]
    },
    {
      "cell_type": "markdown",
      "metadata": {
        "id": "KB3xzgdBxgD_"
      },
      "source": [
        "--------------------------------\n",
        "Question\n",
        "\n",
        "1. Modify your list comprehension in order to generate:\n",
        "- the same sentence for students taller than 115\n",
        "- the following sentence otherwise: Student [name] is smaller than 130\n",
        "\n",
        "It should generate the following list\n",
        "```\n",
        "['Student pilou is smaller than 130',\n",
        " 'Student balo is 141 tall',\n",
        " 'Student pata is 145 tall',\n",
        " 'Student mani is smaller than 130',\n",
        " 'Student tika is smaller than 130',\n",
        " 'Student bibi is smaller than 130',\n",
        " 'Student theo is 140 tall']\n",
        "```"
      ]
    },
    {
      "cell_type": "code",
      "execution_count": null,
      "metadata": {
        "id": "yBowPunKxgD_"
      },
      "outputs": [],
      "source": [
        "### =====                ==== ####\n",
        "###       YOUR CODE HERE      ####\n",
        "### =====                ==== ####\n",
        "\n"
      ]
    },
    {
      "cell_type": "markdown",
      "metadata": {
        "id": "5bEbBZurxgEA"
      },
      "source": [
        "## Format strings<a class=anchor id=format_strings></a>\n",
        "Combine text with variables"
      ]
    },
    {
      "cell_type": "markdown",
      "metadata": {
        "id": "r-AAUNyKxgEA"
      },
      "source": [
        "Simple formats"
      ]
    },
    {
      "cell_type": "code",
      "execution_count": null,
      "metadata": {
        "id": "EgbLNQLZxgEA"
      },
      "outputs": [],
      "source": [
        "val_ex = 4983\n",
        "print('Result', val_ex)"
      ]
    },
    {
      "cell_type": "markdown",
      "metadata": {
        "id": "N7Y2NIZbxgEA"
      },
      "source": [
        "Advanced format V1: .format()"
      ]
    },
    {
      "cell_type": "code",
      "execution_count": null,
      "metadata": {
        "id": "faynZ59NxgEA"
      },
      "outputs": [],
      "source": [
        "l = []\n",
        "for i in range(10):\n",
        "    l.append(\"{}\".format(i))\n",
        "\n",
        "l = []\n",
        "for i in range(10):\n",
        "    l.append(\"{0}\".format(i))\n",
        "\n",
        "l = []\n",
        "for i in range(10):\n",
        "    l.append(\"{num}\".format(num=i))"
      ]
    },
    {
      "cell_type": "markdown",
      "metadata": {
        "id": "s3L7hCsfxgEA"
      },
      "source": [
        "Advanced format V2 (since Python 3.6): 'f' format"
      ]
    },
    {
      "cell_type": "code",
      "execution_count": null,
      "metadata": {
        "id": "IguV6Nq9xgEA"
      },
      "outputs": [],
      "source": [
        "l = []\n",
        "for i in range(10):\n",
        "    l.append(f\"{i}\")"
      ]
    },
    {
      "cell_type": "markdown",
      "metadata": {
        "id": "Y-16nR3DxgEA"
      },
      "source": [
        "--------------------------------\n",
        "Question\n",
        "\n",
        "1. Re-use your old list lst, containing [12, 13, 14, 12]\n",
        "2. Using the 3 different formats presented above, your code should display:\n",
        "- The first element is: [first_value]\n",
        "\n",
        "For the 3 outputs it should generate the following list\n",
        "```\n",
        "The first element is: 12\n",
        "The first element is: 12\n",
        "The first element is: 12\n",
        "```"
      ]
    },
    {
      "cell_type": "code",
      "execution_count": null,
      "metadata": {
        "id": "uaUfK3Z9xgEA"
      },
      "outputs": [],
      "source": [
        "### =====                ==== ####\n",
        "###       YOUR CODE HERE      ####\n",
        "### =====                ==== ####\n",
        "\n"
      ]
    },
    {
      "cell_type": "markdown",
      "metadata": {
        "id": "ie1qxZuixgEA"
      },
      "source": [
        "## Pandas<a class=anchor id=pandas></a>"
      ]
    },
    {
      "cell_type": "markdown",
      "metadata": {
        "id": "s1HFnhZ3xgEA"
      },
      "source": [
        "### Create Series"
      ]
    },
    {
      "cell_type": "code",
      "execution_count": null,
      "metadata": {
        "id": "s2HoU299xgEA"
      },
      "outputs": [],
      "source": [
        "s = pd.Series({'a': [1.5, 2.2, 4.9, 3.4, 5.9]})\n",
        "s"
      ]
    },
    {
      "cell_type": "markdown",
      "metadata": {
        "id": "yMkCCQrfxgEA"
      },
      "source": [
        "--------------------------------\n",
        "Question\n",
        "\n",
        "1. Create a pandas Series named: grades\n",
        "2. The Series should contain the following values: [12, 13, 14, 12]\n",
        "3. Store the Series in a variable named s_stu\n",
        "3. Display the Series\n",
        "\n",
        "It should generate the following output\n",
        "```\n",
        "grades    [12, 13, 14, 12]\n",
        "dtype: object\n",
        "```"
      ]
    },
    {
      "cell_type": "code",
      "execution_count": null,
      "metadata": {
        "id": "mynmMZtBxgEA"
      },
      "outputs": [],
      "source": [
        "### =====                ==== ####\n",
        "###       YOUR CODE HERE      ####\n",
        "### =====                ==== ####\n",
        "\n"
      ]
    },
    {
      "cell_type": "markdown",
      "metadata": {
        "id": "JDCg6WCVxgEA"
      },
      "source": [
        "### Create DataFrame (manually)"
      ]
    },
    {
      "cell_type": "code",
      "execution_count": null,
      "metadata": {
        "id": "z9_LNEAcxgEA"
      },
      "outputs": [],
      "source": [
        "students = {\n",
        "    'names': ['ali', 'zoe', 'moh'],\n",
        "    'age': [10, 12, 9],\n",
        "}\n",
        "\n",
        "df = pd.DataFrame(students)"
      ]
    },
    {
      "cell_type": "code",
      "execution_count": null,
      "metadata": {
        "id": "HYBiukDDxgEA"
      },
      "outputs": [],
      "source": [
        "df"
      ]
    },
    {
      "cell_type": "markdown",
      "metadata": {
        "id": "4TSTGrP-xgEA"
      },
      "source": [
        "--------------------------------\n",
        "Question\n",
        "\n",
        "1. Create a pandas DataFrame\n",
        "2. The DataFrame should contain two Series:\n",
        "- names: liu, fuy, tio, kape\n",
        "- grades: 12, 13, 14, 12\n",
        "3. Store the DataFrame in a variable named df_stu\n",
        "3. Display the DataFrame\n",
        "\n",
        "It should generate the following output\n",
        "```\n",
        "\tnames\tgrades\n",
        "0\tliu\t12\n",
        "1\tfuy\t13\n",
        "2\ttio\t14\n",
        "3\tkape\t12\n",
        "```"
      ]
    },
    {
      "cell_type": "code",
      "execution_count": null,
      "metadata": {
        "id": "FBx7ePtxxgEB"
      },
      "outputs": [],
      "source": [
        "### =====                ==== ####\n",
        "###       YOUR CODE HERE      ####\n",
        "### =====                ==== ####\n",
        "\n"
      ]
    },
    {
      "cell_type": "markdown",
      "metadata": {
        "id": "PM1QIY1NxgEB"
      },
      "source": [
        "- Add index names for the purpose of this exercise: index are like the names of the lines\n",
        "- In Excel, it ranges from 0 to +100000... and is generated automatically. It actually represents the number of the line.\n",
        "- But in pandas DataFrames, it can represent anything (dates, client_id, even numbers in disorder)\n",
        "- It corresponds to a default primary key"
      ]
    },
    {
      "cell_type": "code",
      "execution_count": null,
      "metadata": {
        "id": "JK-zE47wxgEB"
      },
      "outputs": [],
      "source": [
        "df.index = ['stu_1', 'stu_2', 'stu_3']"
      ]
    },
    {
      "cell_type": "code",
      "execution_count": null,
      "metadata": {
        "id": "qI_xtAapxgEB"
      },
      "outputs": [],
      "source": [
        "df.index"
      ]
    },
    {
      "cell_type": "code",
      "execution_count": null,
      "metadata": {
        "id": "DcerbFDCxgEB"
      },
      "outputs": [],
      "source": [
        "df"
      ]
    },
    {
      "cell_type": "markdown",
      "metadata": {
        "id": "gr93y2w0xgEB"
      },
      "source": [
        "The above DataFrame is composed of 2 Series (a specific object / in column)"
      ]
    },
    {
      "cell_type": "code",
      "execution_count": null,
      "metadata": {
        "id": "-icjGsTmxgEB"
      },
      "outputs": [],
      "source": [
        "# Get a single Series\n",
        "df['age']"
      ]
    },
    {
      "cell_type": "markdown",
      "metadata": {
        "id": "2nA3juc_xgEB"
      },
      "source": [
        "Multiply by 2 each element of 'nums'"
      ]
    },
    {
      "cell_type": "code",
      "execution_count": null,
      "metadata": {
        "id": "rZ0qGBpgxgEB"
      },
      "outputs": [],
      "source": [
        "df_temp = df.copy()"
      ]
    },
    {
      "cell_type": "code",
      "execution_count": null,
      "metadata": {
        "id": "ZU8u71kAxgEB"
      },
      "outputs": [],
      "source": [
        "# /!\\ Never do it this way (loops) /!\\\n",
        "for i, val in enumerate(df_temp['age']):\n",
        "    df_temp.loc[i, 'age'] = val * 2"
      ]
    },
    {
      "cell_type": "code",
      "execution_count": null,
      "metadata": {
        "id": "u-oFt1ycxgEB"
      },
      "outputs": [],
      "source": [
        "df_temp"
      ]
    },
    {
      "cell_type": "markdown",
      "metadata": {
        "id": "9wy9hzLixgEB"
      },
      "source": [
        "- On large DataFrames this is very slow (inefficient)\n",
        "- It's also more difficul to read"
      ]
    },
    {
      "cell_type": "code",
      "execution_count": null,
      "metadata": {
        "id": "6OwWXHkexgEB"
      },
      "outputs": [],
      "source": [
        "df_temp = df.copy()"
      ]
    },
    {
      "cell_type": "code",
      "execution_count": null,
      "metadata": {
        "id": "JNjmhzcIxgEB"
      },
      "outputs": [],
      "source": [
        "# Do this way (vectorized)\n",
        "df_temp['age'] = df_temp['age'] * 2"
      ]
    },
    {
      "cell_type": "markdown",
      "metadata": {
        "id": "lvWKzjcOxgEB"
      },
      "source": [
        "--------------------------------\n",
        "Question\n",
        "\n",
        "1. Using your DataFrame df_stu\n",
        "2. Add 3 to each grade\n",
        "3. Store the new grade vector as a new column in the DataFrame under the name: grades_harmonized\n",
        "3. Display the DataFrame\n",
        "\n",
        "It should generate the following output\n",
        "```\n",
        "\tnames\tgrades\tgrades_harmonized\n",
        "0\tliu\t12\t15\n",
        "1\tfuy\t13\t16\n",
        "2\ttio\t14\t17\n",
        "3\tkape\t12\t15\n",
        "```"
      ]
    },
    {
      "cell_type": "code",
      "execution_count": null,
      "metadata": {
        "id": "V2btMkgWxgEB"
      },
      "outputs": [],
      "source": [
        "### =====                ==== ####\n",
        "###       YOUR CODE HERE      ####\n",
        "### =====                ==== ####\n",
        "\n"
      ]
    },
    {
      "cell_type": "markdown",
      "metadata": {
        "id": "aGf9yDaFxgEB"
      },
      "source": [
        "### Access data"
      ]
    },
    {
      "cell_type": "markdown",
      "metadata": {
        "id": "u0z1PLJ3xgEB"
      },
      "source": [
        "#### Get column"
      ]
    },
    {
      "cell_type": "code",
      "execution_count": null,
      "metadata": {
        "id": "axbkSBgpxgEB"
      },
      "outputs": [],
      "source": [
        "df['age']"
      ]
    },
    {
      "cell_type": "code",
      "execution_count": null,
      "metadata": {
        "id": "uuLBxGd1xgEC"
      },
      "outputs": [],
      "source": [
        "df['names']"
      ]
    },
    {
      "cell_type": "markdown",
      "metadata": {
        "id": "Eph_97f7xgEC"
      },
      "source": [
        "--------------------------------\n",
        "Question\n",
        "\n",
        "1. Using your DataFrame df_stu\n",
        "2. Display the column grades_harmonized\n",
        "\n",
        "It should generate the following output\n",
        "```\n",
        "0    15\n",
        "1    16\n",
        "2    17\n",
        "3    15\n",
        "Name: grades_harmonized, dtype: int64\n",
        "```"
      ]
    },
    {
      "cell_type": "code",
      "execution_count": null,
      "metadata": {
        "id": "yFKqB0LjxgEC"
      },
      "outputs": [],
      "source": [
        "### =====                ==== ####\n",
        "###       YOUR CODE HERE      ####\n",
        "### =====                ==== ####\n",
        "\n"
      ]
    },
    {
      "cell_type": "markdown",
      "metadata": {
        "id": "zn55XPNtxgEC"
      },
      "source": [
        "### Get specific row"
      ]
    },
    {
      "cell_type": "markdown",
      "metadata": {
        "id": "1QvRXs8-xgEC"
      },
      "source": [
        "Using its relative position"
      ]
    },
    {
      "cell_type": "code",
      "execution_count": null,
      "metadata": {
        "id": "D-XMY7-qxgEC"
      },
      "outputs": [],
      "source": [
        "df.iloc[0]"
      ]
    },
    {
      "cell_type": "code",
      "execution_count": null,
      "metadata": {
        "id": "-l4-gNWBxgEC"
      },
      "outputs": [],
      "source": [
        "df.iloc[-1]"
      ]
    },
    {
      "cell_type": "markdown",
      "metadata": {
        "id": "F-nlK3ZWxgEC"
      },
      "source": [
        "Using its index name\n",
        "- be careful, the first line is always at **position** 0\n",
        "- also, in many cases the index is named 0, 1, 2, 3, etc. thus, the first line is also named 0! (which could have been different from its relative position)"
      ]
    },
    {
      "cell_type": "code",
      "execution_count": null,
      "metadata": {
        "id": "t0rxHbSvxgEC"
      },
      "outputs": [],
      "source": [
        "df.loc['stu_2']"
      ]
    },
    {
      "cell_type": "markdown",
      "metadata": {
        "id": "R8ohP4gIxgEC"
      },
      "source": [
        "--------------------------------\n",
        "Question\n",
        "\n",
        "1. Using your DataFrame df_stu\n",
        "2. Display the last row\n",
        "\n",
        "It should generate the following output\n",
        "```\n",
        "names                kape\n",
        "grades                 12\n",
        "grades_harmonized      15\n",
        "Name: 3, dtype: object\n",
        "```"
      ]
    },
    {
      "cell_type": "code",
      "execution_count": null,
      "metadata": {
        "id": "1IPv1JdvxgEC"
      },
      "outputs": [],
      "source": [
        "### =====                ==== ####\n",
        "###       YOUR CODE HERE      ####\n",
        "### =====                ==== ####\n",
        "\n"
      ]
    },
    {
      "cell_type": "markdown",
      "metadata": {
        "id": "h-G_T6AixgEC"
      },
      "source": [
        "--------------------------------\n",
        "Question\n",
        "\n",
        "1. Using your DataFrame df_stu\n",
        "2. Display the first row\n",
        "\n",
        "It should generate the following output\n",
        "```\n",
        "names                liu\n",
        "grades                12\n",
        "grades_harmonized     15\n",
        "Name: 0, dtype: object\n",
        "```"
      ]
    },
    {
      "cell_type": "code",
      "execution_count": null,
      "metadata": {
        "id": "H2LlNo81xgEC"
      },
      "outputs": [],
      "source": [
        "### =====                ==== ####\n",
        "###       YOUR CODE HERE      ####\n",
        "### =====                ==== ####\n",
        "\n"
      ]
    },
    {
      "cell_type": "markdown",
      "metadata": {
        "id": "8-uNGCz1xgEC"
      },
      "source": [
        "--------------------------------\n",
        "Question\n",
        "\n",
        "1. Using your DataFrame df_stu\n",
        "2. Display the row **at index** 1\n",
        "\n",
        "It should generate the following output\n",
        "```\n",
        "names                fuy\n",
        "grades                13\n",
        "grades_harmonized     16\n",
        "Name: 1, dtype: object\n",
        "```"
      ]
    },
    {
      "cell_type": "code",
      "execution_count": null,
      "metadata": {
        "id": "G4X28vU-xgEC"
      },
      "outputs": [],
      "source": [
        "### =====                ==== ####\n",
        "###       YOUR CODE HERE      ####\n",
        "### =====                ==== ####\n",
        "\n"
      ]
    },
    {
      "cell_type": "markdown",
      "metadata": {
        "id": "PBI4H2VaxgEC"
      },
      "source": [
        "### Masks (filters)\n",
        "Get multiple rows"
      ]
    },
    {
      "cell_type": "code",
      "execution_count": null,
      "metadata": {
        "id": "YqixI2_HxgED"
      },
      "outputs": [],
      "source": [
        "mask_age = df['age'] >= 10\n",
        "mask_age"
      ]
    },
    {
      "cell_type": "code",
      "execution_count": null,
      "metadata": {
        "id": "o_BuZBg4xgED"
      },
      "outputs": [],
      "source": [
        "df[mask_age]"
      ]
    },
    {
      "cell_type": "markdown",
      "metadata": {
        "id": "telc75ndxgED"
      },
      "source": [
        "--------------------------------\n",
        "Question\n",
        "\n",
        "1. Using your DataFrame df_stu\n",
        "2. Create a mask that selects students with a grade greater than 15\n",
        "3. Store this mask in a variable named: ma_leaders\n",
        "4. Use this mask to extract the selected rows only\n",
        "\n",
        "It should generate the following output\n",
        "```\n",
        "\tnames\tgrades\tgrades_harmonized\n",
        "1\tfuy\t13\t16\n",
        "2\ttio\t14\t17\n",
        "```"
      ]
    },
    {
      "cell_type": "code",
      "execution_count": null,
      "metadata": {
        "id": "dEQ9ZAuPxgED"
      },
      "outputs": [],
      "source": [
        "### =====                ==== ####\n",
        "###       YOUR CODE HERE      ####\n",
        "### =====                ==== ####\n",
        "\n"
      ]
    },
    {
      "cell_type": "markdown",
      "metadata": {
        "id": "VQYpSPDOxgED"
      },
      "source": [
        "### DataFrames Methods"
      ]
    },
    {
      "cell_type": "markdown",
      "metadata": {
        "id": "0hqew8ABxgED"
      },
      "source": [
        "Max"
      ]
    },
    {
      "cell_type": "code",
      "execution_count": null,
      "metadata": {
        "id": "Qx9-wvxCxgED"
      },
      "outputs": [],
      "source": [
        "df.max()"
      ]
    },
    {
      "cell_type": "code",
      "execution_count": null,
      "metadata": {
        "id": "g0nbOIHexgED"
      },
      "outputs": [],
      "source": [
        "df['age'].max()"
      ]
    },
    {
      "cell_type": "markdown",
      "metadata": {
        "id": "5FeQAQngxgED"
      },
      "source": [
        "Shape to know the number of rows and columns"
      ]
    },
    {
      "cell_type": "code",
      "execution_count": null,
      "metadata": {
        "id": "EaKBwwMsxgED"
      },
      "outputs": [],
      "source": [
        "df.shape"
      ]
    },
    {
      "cell_type": "markdown",
      "metadata": {
        "id": "D-u2uIpZxgED"
      },
      "source": [
        "Info to get more informations on the composition"
      ]
    },
    {
      "cell_type": "code",
      "execution_count": null,
      "metadata": {
        "id": "iI7B50AnxgED"
      },
      "outputs": [],
      "source": [
        "df.info()"
      ]
    },
    {
      "cell_type": "markdown",
      "metadata": {
        "id": "cdSN06OOxgED"
      },
      "source": [
        "Describe to get descriptive statistics\n",
        "\n",
        "(on the quantitative variables only)"
      ]
    },
    {
      "cell_type": "code",
      "execution_count": null,
      "metadata": {
        "id": "j2Ht-SwBxgED"
      },
      "outputs": [],
      "source": [
        "df.describe()"
      ]
    },
    {
      "cell_type": "code",
      "execution_count": null,
      "metadata": {
        "id": "i0PH7U1mxgED"
      },
      "outputs": [],
      "source": [
        "df['age'].describe()"
      ]
    },
    {
      "cell_type": "markdown",
      "metadata": {
        "id": "I0R8mP7lxgED"
      },
      "source": [
        "--------------------------------\n",
        "Question\n",
        "\n",
        "1. Using your DataFrame df_stu\n",
        "2. Use the *describe* method\n",
        "3. Check that the median is 12.5"
      ]
    },
    {
      "cell_type": "code",
      "execution_count": null,
      "metadata": {
        "id": "olqVmTqAxgED"
      },
      "outputs": [],
      "source": [
        "### =====                ==== ####\n",
        "###       YOUR CODE HERE      ####\n",
        "### =====                ==== ####\n",
        "\n"
      ]
    },
    {
      "cell_type": "markdown",
      "metadata": {
        "id": "vtOAtjoVxgEE"
      },
      "source": [
        "--------------------------------\n",
        "Question\n",
        "\n",
        "1. Using your DataFrame df_stu\n",
        "2. Use the *info* method\n",
        "3. Check that the column *names* is of Dtype *object*\n",
        "4. Check the number of rows and columns"
      ]
    },
    {
      "cell_type": "code",
      "execution_count": null,
      "metadata": {
        "id": "ZDUGN5OPxgEE"
      },
      "outputs": [],
      "source": [
        "### =====                ==== ####\n",
        "###       YOUR CODE HERE      ####\n",
        "### =====                ==== ####\n",
        "\n"
      ]
    },
    {
      "cell_type": "markdown",
      "metadata": {
        "id": "SqAz9LWixgEE"
      },
      "source": [
        "--------------------------------\n",
        "Question\n",
        "\n",
        "1. Using your DataFrame df_stu\n",
        "2. Use the *shape* attribute to control for the number of rows and columns\n",
        "\n",
        "It should generate the following output\n",
        "```\n",
        "(4, 3)\n",
        "```"
      ]
    },
    {
      "cell_type": "code",
      "execution_count": null,
      "metadata": {
        "id": "QqfSejCjxgEE"
      },
      "outputs": [],
      "source": [
        "### =====                ==== ####\n",
        "###       YOUR CODE HERE      ####\n",
        "### =====                ==== ####\n",
        "\n"
      ]
    },
    {
      "cell_type": "markdown",
      "metadata": {
        "id": "tiZXzVzBxgEE"
      },
      "source": [
        "### Apply function\n",
        "To each row (to all or to a selected column)"
      ]
    },
    {
      "cell_type": "code",
      "execution_count": null,
      "metadata": {
        "id": "_lxAZUF5xgEE"
      },
      "outputs": [],
      "source": [
        "df.apply(lambda x: x*2)"
      ]
    },
    {
      "cell_type": "code",
      "execution_count": null,
      "metadata": {
        "id": "SP-FFsgTxgEE"
      },
      "outputs": [],
      "source": [
        "df['age'].apply(lambda x: x*2)"
      ]
    },
    {
      "cell_type": "markdown",
      "metadata": {
        "id": "bfUjX6hmxgEE"
      },
      "source": [
        "Could use a pre-defined function"
      ]
    },
    {
      "cell_type": "code",
      "execution_count": null,
      "metadata": {
        "id": "a5lJ-yzzxgEE"
      },
      "outputs": [],
      "source": [
        "def double(x):\n",
        "    return x * 2"
      ]
    },
    {
      "cell_type": "code",
      "execution_count": null,
      "metadata": {
        "id": "7WeYfk-DxgEE"
      },
      "outputs": [],
      "source": [
        "df['age'].apply(double)"
      ]
    },
    {
      "cell_type": "markdown",
      "metadata": {
        "id": "0Vk-5aW6xgEE"
      },
      "source": [
        "--------------------------------\n",
        "Question\n",
        "\n",
        "1. Using your DataFrame df_stu\n",
        "2. Use apply function on the column *grades*\n",
        "3. Add 2 if the grade is smaller than 13 (use lambda)\n",
        "\n",
        "It should generate the following output\n",
        "```\n",
        "0    14\n",
        "1    13\n",
        "2    14\n",
        "3    14\n",
        "Name: grades, dtype: int64\n",
        "```"
      ]
    },
    {
      "cell_type": "code",
      "execution_count": null,
      "metadata": {
        "id": "IeV-jcVSxgEE"
      },
      "outputs": [],
      "source": [
        "### =====                ==== ####\n",
        "###       YOUR CODE HERE      ####\n",
        "### =====                ==== ####\n",
        "\n"
      ]
    },
    {
      "cell_type": "markdown",
      "metadata": {
        "id": "0J0YY8g8xgEE"
      },
      "source": [
        "### DataFrame other useful methods"
      ]
    },
    {
      "cell_type": "markdown",
      "metadata": {
        "id": "ms6aJUhRxgEE"
      },
      "source": [
        "#### String methods"
      ]
    },
    {
      "cell_type": "code",
      "execution_count": null,
      "metadata": {
        "id": "mIyxidMtxgEE"
      },
      "outputs": [],
      "source": [
        "df['names'].str.upper()"
      ]
    },
    {
      "cell_type": "markdown",
      "metadata": {
        "id": "XbjJ-yaOxgEE"
      },
      "source": [
        "--------------------------------\n",
        "Question\n",
        "\n",
        "1. Using your DataFrame df_stu\n",
        "2. Use pandas buit-in method to change the first letter of each name with a capital letter\n",
        "\n",
        "It should generate the following output\n",
        "```\n",
        "0     Liu\n",
        "1     Fuy\n",
        "2     Tio\n",
        "3    Kape\n",
        "Name: names, dtype: object\n",
        "```"
      ]
    },
    {
      "cell_type": "code",
      "execution_count": null,
      "metadata": {
        "id": "BD-kMMNpxgEE"
      },
      "outputs": [],
      "source": [
        "### =====                ==== ####\n",
        "###       YOUR CODE HERE      ####\n",
        "### =====                ==== ####\n",
        "\n"
      ]
    },
    {
      "cell_type": "markdown",
      "metadata": {
        "id": "e8rv4sSGxgEF"
      },
      "source": [
        "#### Drop a column"
      ]
    },
    {
      "cell_type": "code",
      "execution_count": null,
      "metadata": {
        "id": "AMdHDEiOxgEF"
      },
      "outputs": [],
      "source": [
        "df_temp = df.copy()"
      ]
    },
    {
      "cell_type": "markdown",
      "metadata": {
        "id": "P0J1788FxgEF"
      },
      "source": [
        "Not applied to the current DataFrame"
      ]
    },
    {
      "cell_type": "code",
      "execution_count": null,
      "metadata": {
        "id": "1snoy448xgEF"
      },
      "outputs": [],
      "source": [
        "df_temp.drop(columns='names')"
      ]
    },
    {
      "cell_type": "code",
      "execution_count": null,
      "metadata": {
        "id": "gxvbmY8cxgEF"
      },
      "outputs": [],
      "source": [
        "df_temp"
      ]
    },
    {
      "cell_type": "markdown",
      "metadata": {
        "id": "Kj8TmQ5MxgEF"
      },
      "source": [
        "Apply to current DataFrame:\n",
        "- Using standard variable assignment"
      ]
    },
    {
      "cell_type": "code",
      "execution_count": null,
      "metadata": {
        "id": "EENnRdPQxgEF"
      },
      "outputs": [],
      "source": [
        "df_temp = df.copy()"
      ]
    },
    {
      "cell_type": "code",
      "execution_count": null,
      "metadata": {
        "id": "RKzEjiGrxgEF"
      },
      "outputs": [],
      "source": [
        "df_temp = df_temp.drop(columns='names')"
      ]
    },
    {
      "cell_type": "code",
      "execution_count": null,
      "metadata": {
        "id": "2jy4gM1ixgEF"
      },
      "outputs": [],
      "source": [
        "df_temp"
      ]
    },
    {
      "cell_type": "markdown",
      "metadata": {
        "id": "GxhFNcpuxgEF"
      },
      "source": [
        "Using inplace"
      ]
    },
    {
      "cell_type": "code",
      "execution_count": null,
      "metadata": {
        "id": "HP2jQC0NxgEF"
      },
      "outputs": [],
      "source": [
        "df_temp = df.copy()"
      ]
    },
    {
      "cell_type": "code",
      "execution_count": null,
      "metadata": {
        "id": "_15FkJRDxgEF"
      },
      "outputs": [],
      "source": [
        "df_temp.drop(columns='names', inplace=True)"
      ]
    },
    {
      "cell_type": "code",
      "execution_count": null,
      "metadata": {
        "id": "JQ4OQ-sLxgEF"
      },
      "outputs": [],
      "source": [
        "df_temp"
      ]
    },
    {
      "cell_type": "markdown",
      "metadata": {
        "id": "tsvgfQQgxgEF"
      },
      "source": [
        "--------------------------------\n",
        "Question\n",
        "\n",
        "1. Using your DataFrame df_stu\n",
        "2. Drop the column named *grades* using *inplace* parameter\n",
        "\n",
        "It should output nothing"
      ]
    },
    {
      "cell_type": "code",
      "execution_count": null,
      "metadata": {
        "id": "JBccHiJ-xgEF"
      },
      "outputs": [],
      "source": [
        "### =====                ==== ####\n",
        "###       YOUR CODE HERE      ####\n",
        "### =====                ==== ####\n",
        "\n"
      ]
    },
    {
      "cell_type": "markdown",
      "metadata": {
        "id": "TnB5CmdCxgEF"
      },
      "source": [
        "#### Sort_values"
      ]
    },
    {
      "cell_type": "code",
      "execution_count": null,
      "metadata": {
        "id": "NgpVT8vqxgEF"
      },
      "outputs": [],
      "source": [
        "df.sort_values(by='age')"
      ]
    },
    {
      "cell_type": "code",
      "execution_count": null,
      "metadata": {
        "id": "37CgzmrOxgEF"
      },
      "outputs": [],
      "source": [
        "df.sort_values(by='age', ascending=False)"
      ]
    },
    {
      "cell_type": "markdown",
      "metadata": {
        "id": "Ln1wBaC2xgEG"
      },
      "source": [
        "#### Value_counts"
      ]
    },
    {
      "cell_type": "code",
      "execution_count": null,
      "metadata": {
        "id": "LnFHrtF-xgEG"
      },
      "outputs": [],
      "source": [
        "df_temp = df.copy()\n",
        "\n",
        "additional_students = {\n",
        "    'names': ['jul', 'lipo', 'chen'],\n",
        "    'age': [10, 10, 12]\n",
        "}\n",
        "\n",
        "df_add_students = pd.DataFrame(\n",
        "    additional_students,\n",
        "    index = ['stu_4', 'stu_5', 'stu_6']\n",
        ")\n",
        "\n",
        "df_temp = df_temp.append(df_add_students)"
      ]
    },
    {
      "cell_type": "code",
      "execution_count": null,
      "metadata": {
        "id": "FiZdeOycxgEG"
      },
      "outputs": [],
      "source": [
        "df_temp"
      ]
    },
    {
      "cell_type": "code",
      "execution_count": null,
      "metadata": {
        "id": "UnEv3E_FxgEG"
      },
      "outputs": [],
      "source": [
        "df_temp['age'].value_counts()"
      ]
    },
    {
      "cell_type": "markdown",
      "metadata": {
        "id": "Eq-pZJDmxgEG"
      },
      "source": [
        "--------------------------------\n",
        "Question\n",
        "\n",
        "1. Using your DataFrame df_stu\n",
        "2. Count the number of each occurence in *grades_harmonized*\n",
        "\n",
        "It should generate the following output\n",
        "```\n",
        "15    2\n",
        "16    1\n",
        "17    1\n",
        "Name: grades_harmonized, dtype: int64\n",
        "```"
      ]
    },
    {
      "cell_type": "code",
      "execution_count": null,
      "metadata": {
        "id": "DPW8CBLtxgEG"
      },
      "outputs": [],
      "source": [
        "### =====                ==== ####\n",
        "###       YOUR CODE HERE      ####\n",
        "### =====                ==== ####\n",
        "\n"
      ]
    },
    {
      "cell_type": "markdown",
      "metadata": {
        "id": "Pr_lUyd-xgEG"
      },
      "source": [
        "#### Groupby"
      ]
    },
    {
      "cell_type": "code",
      "execution_count": null,
      "metadata": {
        "id": "vu326ostxgEG"
      },
      "outputs": [],
      "source": [
        "df_temp['centroid'] = [1, 3, 3, 2, 3, 1]"
      ]
    },
    {
      "cell_type": "code",
      "execution_count": null,
      "metadata": {
        "id": "nLoMMdOxxgEG"
      },
      "outputs": [],
      "source": [
        "df_temp"
      ]
    },
    {
      "cell_type": "code",
      "execution_count": null,
      "metadata": {
        "id": "Qxp0FHg6xgEG"
      },
      "outputs": [],
      "source": [
        "df_temp.groupby('centroid').mean()"
      ]
    },
    {
      "cell_type": "markdown",
      "metadata": {
        "id": "dxfc_JkgxgEG"
      },
      "source": [
        "--------------------------------\n",
        "Question\n",
        "\n",
        "1. Using your DataFrame df_stu\n",
        "2. Add a column named *is_adult* containing the values: 0, 1, 1, 0\n",
        "3. Then, compute the average *grades_harmonized* of both adults and non adults\n",
        "\n",
        "It should generate the following output\n",
        "```\n",
        "\tgrades_harmonized\n",
        "is_adult\n",
        "0\t15.0\n",
        "1\t16.5\n",
        "```"
      ]
    },
    {
      "cell_type": "code",
      "execution_count": null,
      "metadata": {
        "id": "N3dnvkX7xgEG"
      },
      "outputs": [],
      "source": [
        "### =====                ==== ####\n",
        "###       YOUR CODE HERE      ####\n",
        "### =====                ==== ####\n",
        "\n"
      ]
    },
    {
      "cell_type": "markdown",
      "metadata": {
        "id": "OmLaYXtHxgEG"
      },
      "source": [
        "#### Treat NA values (Not available)"
      ]
    },
    {
      "cell_type": "code",
      "execution_count": null,
      "metadata": {
        "id": "aYcns2tkxgEG"
      },
      "outputs": [],
      "source": [
        "import numpy as np\n",
        "np.nan"
      ]
    },
    {
      "cell_type": "code",
      "execution_count": null,
      "metadata": {
        "id": "BlBKVsnExgEG"
      },
      "outputs": [],
      "source": [
        "df_temp.loc['stu_2', 'age'] = np.nan\n",
        "df_temp.loc['stu_4', 'age'] = np.nan"
      ]
    },
    {
      "cell_type": "code",
      "execution_count": null,
      "metadata": {
        "id": "rWSRyDT6xgEG"
      },
      "outputs": [],
      "source": [
        "df_temp"
      ]
    },
    {
      "cell_type": "code",
      "execution_count": null,
      "metadata": {
        "id": "SFtaQakGxgEG"
      },
      "outputs": [],
      "source": [
        "df_temp.isna()"
      ]
    },
    {
      "cell_type": "code",
      "execution_count": null,
      "metadata": {
        "id": "G7HlM_JQxgEG"
      },
      "outputs": [],
      "source": [
        "df_temp['age'].fillna(10)"
      ]
    },
    {
      "cell_type": "markdown",
      "metadata": {
        "id": "VBFZArv0xgEH"
      },
      "source": [
        "--------------------------------\n",
        "Question\n",
        "\n",
        "1. Using your DataFrame df_stu\n",
        "2. Replace zeros by *nan* in column *is_adult*\n",
        "3. Display the DataFrame\n",
        "\n",
        "It should generate the following output\n",
        "```\n",
        "\tnames\tgrades_harmonized\tis_adult\n",
        "0\tliu\t15\tNaN\n",
        "1\tfuy\t16\t1.0\n",
        "2\ttio\t17\t1.0\n",
        "3\tkape\t15\tNaN\n",
        "```"
      ]
    },
    {
      "cell_type": "code",
      "execution_count": null,
      "metadata": {
        "id": "M4xv12xKxgEH"
      },
      "outputs": [],
      "source": [
        "### =====                ==== ####\n",
        "###       YOUR CODE HERE      ####\n",
        "### =====                ==== ####\n",
        "\n"
      ]
    },
    {
      "cell_type": "markdown",
      "metadata": {
        "id": "zdxTeZtpxgEH"
      },
      "source": [
        "--------------------------------\n",
        "Question\n",
        "\n",
        "1. Using your DataFrame df_stu\n",
        "2. Replace NaNs by False in the column *is_adult*\n",
        "\n",
        "It should generate the following output\n",
        "```\n",
        "\tnames\tgrades_harmonized\tis_adult\n",
        "0\tliu\t15\tFalse\n",
        "1\tfuy\t16\t1.0\n",
        "2\ttio\t17\t1.0\n",
        "3\tkape\t15\tFalse\n",
        "```"
      ]
    },
    {
      "cell_type": "code",
      "execution_count": null,
      "metadata": {
        "id": "MhY8Q44OxgEH"
      },
      "outputs": [],
      "source": [
        "### =====                ==== ####\n",
        "###       YOUR CODE HERE      ####\n",
        "### =====                ==== ####\n",
        "\n"
      ]
    },
    {
      "cell_type": "markdown",
      "metadata": {
        "id": "Rj1NdI2axgEH"
      },
      "source": [
        "--------------------------------\n",
        "Question\n",
        "\n",
        "1. Using your DataFrame df_stu\n",
        "2. Replace 1.0 by True in the column *is_adult*\n",
        "\n",
        "It should generate the following output\n",
        "```\n",
        "\tnames\tgrades_harmonized\tis_adult\n",
        "0\tliu\t15\tFalse\n",
        "1\tfuy\t16\tTrue\n",
        "2\ttio\t17\tTrue\n",
        "3\tkape\t15\tFalse\n",
        "```"
      ]
    },
    {
      "cell_type": "code",
      "execution_count": null,
      "metadata": {
        "id": "akzTnipDxgEH"
      },
      "outputs": [],
      "source": [
        "### =====                ==== ####\n",
        "###       YOUR CODE HERE      ####\n",
        "### =====                ==== ####\n",
        "\n"
      ]
    },
    {
      "cell_type": "markdown",
      "metadata": {
        "id": "oM915iDExgEH"
      },
      "source": [
        "### Generate graphs"
      ]
    },
    {
      "cell_type": "markdown",
      "metadata": {
        "id": "mAW0qgu0xgEH"
      },
      "source": [
        "Add feature 'size'"
      ]
    },
    {
      "cell_type": "code",
      "execution_count": null,
      "metadata": {
        "id": "IM8Xb0rpxgEH"
      },
      "outputs": [],
      "source": [
        "df_graph = df.copy()"
      ]
    },
    {
      "cell_type": "code",
      "execution_count": null,
      "metadata": {
        "id": "YEYUCRugxgEH"
      },
      "outputs": [],
      "source": [
        "df_graph['size'] = [100, 140, 70]"
      ]
    },
    {
      "cell_type": "code",
      "execution_count": null,
      "metadata": {
        "id": "m8SFhuBvxgEH"
      },
      "outputs": [],
      "source": [
        "df_graph.sort_values('age', inplace=True)"
      ]
    },
    {
      "cell_type": "code",
      "execution_count": null,
      "metadata": {
        "id": "l6PqOIe2xgEH"
      },
      "outputs": [],
      "source": [
        "df_graph"
      ]
    },
    {
      "cell_type": "code",
      "execution_count": null,
      "metadata": {
        "id": "ETGghuF8xgEH"
      },
      "outputs": [],
      "source": [
        "df_graph.plot(x='age', y='size')"
      ]
    },
    {
      "cell_type": "code",
      "execution_count": null,
      "metadata": {
        "id": "FTxsso-XxgEH"
      },
      "outputs": [],
      "source": [
        "df_graph.plot.scatter(x='age', y='size')"
      ]
    },
    {
      "cell_type": "code",
      "execution_count": null,
      "metadata": {
        "id": "PzBbnvKtxgEI"
      },
      "outputs": [],
      "source": [
        "stu_4 = {'names': 'mat', 'age': 12, 'size': 100}\n",
        "df_graph = df_graph.append(stu_4, ignore_index=True)"
      ]
    },
    {
      "cell_type": "code",
      "execution_count": null,
      "metadata": {
        "id": "gkk3DF_hxgEI"
      },
      "outputs": [],
      "source": [
        "df_graph['age'].hist()"
      ]
    },
    {
      "cell_type": "markdown",
      "metadata": {
        "id": "ZX4gn7iWxgEI"
      },
      "source": [
        "--------------------------------\n",
        "Question\n",
        "\n",
        "1. Using your DataFrame df_stu\n",
        "2. Display a histgoram of *grades_harmonized*"
      ]
    },
    {
      "cell_type": "code",
      "execution_count": null,
      "metadata": {
        "id": "PTo03_SbxgEI"
      },
      "outputs": [],
      "source": [
        "### =====                ==== ####\n",
        "###       YOUR CODE HERE      ####\n",
        "### =====                ==== ####\n",
        "\n"
      ]
    },
    {
      "cell_type": "markdown",
      "metadata": {
        "id": "IVBUkyvMxgEI"
      },
      "source": [
        "### Import csv"
      ]
    },
    {
      "cell_type": "code",
      "execution_count": null,
      "metadata": {
        "id": "4-eAxfQNxgEI"
      },
      "outputs": [],
      "source": [
        "path_relative = \"examples/TD6_Exam_MCQ.csv\"  # relative\n",
        "path_absolute = \"/Users/alexisbogroff/git_repositories/Sorbonne_Data_Science_Workshop/src/examples/TD6_Exam_MCQ.csv\" # absolute\n",
        "df = pd.read_csv(path_relative)\n",
        "df.head()"
      ]
    },
    {
      "cell_type": "code",
      "execution_count": null,
      "metadata": {
        "id": "udeSgiCBxgEI"
      },
      "outputs": [],
      "source": [
        "type(df)"
      ]
    },
    {
      "cell_type": "code",
      "execution_count": null,
      "metadata": {
        "id": "dShL2OoNxgEI"
      },
      "outputs": [],
      "source": [
        "df.info()"
      ]
    },
    {
      "cell_type": "markdown",
      "metadata": {
        "id": "ZPt8L3GhxgEI"
      },
      "source": [
        "### Filter (extract) data from DataFrame (Pandas)"
      ]
    },
    {
      "cell_type": "code",
      "execution_count": null,
      "metadata": {
        "id": "ijYKxNZHxgEI"
      },
      "outputs": [],
      "source": [
        "# Get line 2\n",
        "print(type(df.iloc[1]))\n",
        "df.iloc[1]"
      ]
    },
    {
      "cell_type": "code",
      "execution_count": null,
      "metadata": {
        "id": "lCu8EQNLxgEI"
      },
      "outputs": [],
      "source": [
        "# Get line 2 without NAs\n",
        "df.iloc[1][~df.iloc[1].isna()]"
      ]
    },
    {
      "cell_type": "code",
      "execution_count": null,
      "metadata": {
        "id": "laOpz-dXxgEI"
      },
      "outputs": [],
      "source": [
        "# Do the same in multiple steps (more comprehensible)\n",
        "line_2 = df.iloc[1]  # extract => get a pandas Series\n",
        "mask_isna = line_2.isna()  # mask => True & False\n",
        "line_2_no_na = line_2[~mask_isna]  # ~ => Get all BUT what is True"
      ]
    },
    {
      "cell_type": "code",
      "execution_count": null,
      "metadata": {
        "id": "Xf28pop-xgEI"
      },
      "outputs": [],
      "source": [
        "line_2_no_na"
      ]
    },
    {
      "cell_type": "markdown",
      "metadata": {
        "id": "nTGJTEu5xgEI"
      },
      "source": [
        "## Lambda functions<a class=anchor id=lambda></a>"
      ]
    },
    {
      "cell_type": "code",
      "execution_count": null,
      "metadata": {
        "id": "l0oj7RV1xgEI"
      },
      "outputs": [],
      "source": [
        "def mult_11(x):\n",
        "    return x * 11"
      ]
    },
    {
      "cell_type": "code",
      "execution_count": null,
      "metadata": {
        "id": "FIr-COcFxgEI"
      },
      "outputs": [],
      "source": [
        "mult_11(4)"
      ]
    },
    {
      "cell_type": "code",
      "execution_count": null,
      "metadata": {
        "id": "aE9sP3w8xgEI"
      },
      "outputs": [],
      "source": [
        "# Create a function in one-line (don't do this, don't put it in a variable, use rather in apply function as above)\n",
        "# You should either (i) use lambda for one-time use, (ii) use the classic function definition otherwise\n",
        "mult_12 = lambda x: x * 12"
      ]
    },
    {
      "cell_type": "code",
      "execution_count": null,
      "metadata": {
        "id": "Ld3AXyJExgEI"
      },
      "outputs": [],
      "source": [
        "mult_12(4)"
      ]
    },
    {
      "cell_type": "markdown",
      "metadata": {
        "id": "B9bs8X7HxgEI"
      },
      "source": [
        "When is it useful? When you have one-time use functions"
      ]
    },
    {
      "cell_type": "code",
      "execution_count": null,
      "metadata": {
        "id": "nIG_pzyJxgEI"
      },
      "outputs": [],
      "source": [
        "df = pd.DataFrame({'letters':['a', 'b', 'c']})"
      ]
    },
    {
      "cell_type": "code",
      "execution_count": null,
      "metadata": {
        "id": "qHNY9C6XxgEJ"
      },
      "outputs": [],
      "source": [
        "df.apply(lambda x: x.str.upper())"
      ]
    },
    {
      "cell_type": "code",
      "execution_count": null,
      "metadata": {
        "id": "aOyTMLGLxgEJ"
      },
      "outputs": [],
      "source": [
        "# But useless here since we have a simpler solution\n",
        "df['letters'].str.upper()"
      ]
    },
    {
      "cell_type": "code",
      "execution_count": null,
      "metadata": {
        "id": "o4QwruNOxgEJ"
      },
      "outputs": [],
      "source": [
        "df['letters'].apply(lambda x: x.upper() if x=='a' else x)"
      ]
    },
    {
      "cell_type": "markdown",
      "metadata": {
        "id": "2SuC2edGxgEJ"
      },
      "source": [
        "Vectorised loop:\n",
        "- way more effient on large data\n",
        "- good practice"
      ]
    },
    {
      "cell_type": "code",
      "execution_count": null,
      "metadata": {
        "id": "z-tvURyvxgEJ"
      },
      "outputs": [],
      "source": [
        "# Use .apply with a pre defined function\n",
        "df['letters'].apply(mult_12)\n",
        "\n",
        "# Functions should take only 1 argument as input."
      ]
    },
    {
      "cell_type": "markdown",
      "metadata": {
        "id": "FDispgLqxgEJ"
      },
      "source": [
        "## Objects<a class=anchor id=objects></a>"
      ]
    },
    {
      "cell_type": "markdown",
      "metadata": {
        "id": "HfOZsBIoxgEJ"
      },
      "source": [
        "### Create simple class"
      ]
    },
    {
      "cell_type": "code",
      "execution_count": null,
      "metadata": {
        "id": "pCLvxyNtxgEJ"
      },
      "outputs": [],
      "source": [
        "class Truc:\n",
        "    # Define instanciator (init)\n",
        "    def __init__(self):\n",
        "        self.age = 10\n",
        "        self.name = 'truc'"
      ]
    },
    {
      "cell_type": "code",
      "execution_count": null,
      "metadata": {
        "id": "ODjGp4vuxgEJ"
      },
      "outputs": [],
      "source": [
        "truc_1 = Truc()"
      ]
    },
    {
      "cell_type": "code",
      "execution_count": null,
      "metadata": {
        "id": "XDAksY9rxgEJ"
      },
      "outputs": [],
      "source": [
        "truc_1"
      ]
    },
    {
      "cell_type": "code",
      "execution_count": null,
      "metadata": {
        "id": "F22i4pb2xgEL"
      },
      "outputs": [],
      "source": [
        "print(truc_1.name)\n",
        "print(truc_1.age)\n"
      ]
    },
    {
      "cell_type": "markdown",
      "metadata": {
        "id": "ELuhVRHkxgEL"
      },
      "source": [
        "### Create first method"
      ]
    },
    {
      "cell_type": "code",
      "execution_count": null,
      "metadata": {
        "id": "zVpCye5YxgEL"
      },
      "outputs": [],
      "source": [
        "class Truc:\n",
        "\n",
        "    # Define instanciator (init)\n",
        "    def __init__(self):\n",
        "        self.age = 10\n",
        "        self.name = 'truc'\n",
        "\n",
        "    def present(self):\n",
        "        print(f\"My name is: {self.name}, \"\n",
        "              f\"I'm {self.age} years old\")"
      ]
    },
    {
      "cell_type": "code",
      "execution_count": null,
      "metadata": {
        "id": "cF8ZLFCgxgEL"
      },
      "outputs": [],
      "source": [
        "truc_1 = Truc()"
      ]
    },
    {
      "cell_type": "code",
      "execution_count": null,
      "metadata": {
        "id": "sfSb-cKgxgEL"
      },
      "outputs": [],
      "source": [
        "truc_1"
      ]
    },
    {
      "cell_type": "code",
      "execution_count": null,
      "metadata": {
        "id": "pZ2P2xICxgEM"
      },
      "outputs": [],
      "source": [
        "truc_1.name"
      ]
    },
    {
      "cell_type": "code",
      "execution_count": null,
      "metadata": {
        "id": "p_1ALZI-xgEM"
      },
      "outputs": [],
      "source": [
        "truc_1.present()"
      ]
    },
    {
      "cell_type": "markdown",
      "metadata": {
        "id": "PWd8xvT2xgEM"
      },
      "source": [
        "### Create a method with a return"
      ]
    },
    {
      "cell_type": "code",
      "execution_count": null,
      "metadata": {
        "id": "wFmIbENjxgEM"
      },
      "outputs": [],
      "source": [
        "class Truc:\n",
        "\n",
        "    # Define instanciator (init)\n",
        "    def __init__(self):\n",
        "        self.age = 10\n",
        "        self.name = 'truc'\n",
        "\n",
        "    def present(self):\n",
        "        print(f\"My name is: {self.name}, \"\n",
        "              f\"I'm {self.age} years old\")\n",
        "\n",
        "    def dog_age(self):\n",
        "        return self.age * 7"
      ]
    },
    {
      "cell_type": "code",
      "execution_count": null,
      "metadata": {
        "id": "WxRmdxb3xgEM"
      },
      "outputs": [],
      "source": [
        "truc_1 = Truc()"
      ]
    },
    {
      "cell_type": "code",
      "execution_count": null,
      "metadata": {
        "id": "Yt34y4uOxgEM"
      },
      "outputs": [],
      "source": [
        "dog_age = truc_1.dog_age()"
      ]
    },
    {
      "cell_type": "code",
      "execution_count": null,
      "metadata": {
        "id": "z2MR7IgJxgEM"
      },
      "outputs": [],
      "source": [
        "dog_age"
      ]
    },
    {
      "cell_type": "markdown",
      "metadata": {
        "id": "gJk0YOiXxgEM"
      },
      "source": [
        "### Instanciate with an argument"
      ]
    },
    {
      "cell_type": "code",
      "execution_count": null,
      "metadata": {
        "id": "uBS10TXgxgEM"
      },
      "outputs": [],
      "source": [
        "class Truc:\n",
        "\n",
        "    # Define instanciator (init)\n",
        "    def __init__(self, name, age):\n",
        "        self.age = age\n",
        "        self.name = name\n",
        "\n",
        "    def present(self):\n",
        "        print(f\"My name is: {self.name}, \"\n",
        "              f\"I'm {self.age} years old\")\n",
        "\n",
        "    def dog_age(self):\n",
        "        return self.age * 7"
      ]
    },
    {
      "cell_type": "code",
      "execution_count": null,
      "metadata": {
        "id": "jS0_fF0kxgEM"
      },
      "outputs": [],
      "source": [
        "truc_1 = Truc('Yuko', 7)\n",
        "truc_2 = Truc('Mila', 13)"
      ]
    },
    {
      "cell_type": "code",
      "execution_count": null,
      "metadata": {
        "id": "n5Tk_ssNxgEM"
      },
      "outputs": [],
      "source": [
        "print(f\"{truc_1.name} is {truc_1.dog_age()} old\")\n",
        "print(f\"{truc_2.name} is {truc_2.dog_age()} old\")"
      ]
    },
    {
      "cell_type": "markdown",
      "metadata": {
        "id": "iuBwTtxcxgEM"
      },
      "source": [
        "#### Chaining operations"
      ]
    },
    {
      "cell_type": "code",
      "execution_count": null,
      "metadata": {
        "id": "swNtQE4AxgEM"
      },
      "outputs": [],
      "source": [
        "truc_1.name.upper()"
      ]
    },
    {
      "cell_type": "code",
      "execution_count": null,
      "metadata": {
        "id": "hEub9JKIxgEM"
      },
      "outputs": [],
      "source": [
        "name = truc_1.name\n",
        "name.upper()"
      ]
    },
    {
      "cell_type": "markdown",
      "metadata": {
        "id": "C8WSWffyxgEM"
      },
      "source": [
        "--------------------------------\n",
        "Question\n",
        "\n",
        "1. Define: Define a class named: Bioshop\n",
        "2. Define: It should take the name of the bio shop when the object is instanciated\n",
        "3. Define: It should also get an optional attribute *is_zero_waste* at instanciation, with default value *False*\n",
        "4. Define: Add a method *become_zero_waste* that changes the corresponding attribute to True\n",
        "5. Call: Instanciate an object of your class with the name of your choice\n",
        "6. Call: Call the *become_zero_waste* method\n",
        "7. Call: Display the value of attribute is_zero_waste\n",
        "\n",
        "It should output:\n",
        "```True```"
      ]
    },
    {
      "cell_type": "code",
      "execution_count": null,
      "metadata": {
        "id": "P49npAoVxgEM"
      },
      "outputs": [],
      "source": [
        "### =====                ==== ####\n",
        "###       YOUR CODE HERE      ####\n",
        "### =====                ==== ####\n",
        "\n"
      ]
    },
    {
      "cell_type": "markdown",
      "metadata": {
        "id": "bD-RA3RxxgEM"
      },
      "source": [
        "## Libraries<a class=anchor id=libraries></a>"
      ]
    },
    {
      "cell_type": "markdown",
      "metadata": {
        "id": "K8iHFLUBxgEM"
      },
      "source": [
        "### Import personal module"
      ]
    },
    {
      "cell_type": "code",
      "execution_count": null,
      "metadata": {
        "id": "wINHvHVoxgEM"
      },
      "outputs": [],
      "source": [
        "import truc\n",
        "truc.truc()"
      ]
    },
    {
      "cell_type": "markdown",
      "metadata": {
        "id": "mbsVvSykxgEN"
      },
      "source": [
        "### Standard Modules"
      ]
    },
    {
      "cell_type": "code",
      "execution_count": null,
      "metadata": {
        "id": "BNquwBICxgEN"
      },
      "outputs": [],
      "source": [
        "# How to use a standard module\n",
        "## Measure execution time\n",
        "t_start = datetime.datetime.now()\n",
        "\n",
        "for i in range(int(10e6)):\n",
        "    i**4\n",
        "\n",
        "t_end = datetime.datetime.now()\n",
        "\n",
        "print(t_end-t_start)"
      ]
    },
    {
      "cell_type": "markdown",
      "source": [
        "## Shortcuts"
      ],
      "metadata": {
        "id": "f_1H5ZmMJcRq"
      }
    },
    {
      "cell_type": "markdown",
      "source": [
        "**General**\n",
        "\n",
        "How to move the cursor position?\n",
        "- Go to end / start of a line\n",
        "- Go to next / previous word\n",
        "\n",
        "**Code specifically**\n",
        "- Comment a block of lines"
      ],
      "metadata": {
        "id": "jr63VbPGJe0E"
      }
    }
  ],
  "metadata": {
    "interpreter": {
      "hash": "3e74358760790ee203734cf82a8145858ee0b285e8616beddc0cb417b8455e70"
    },
    "kernelspec": {
      "display_name": "Python 3.9.2 ('eda')",
      "language": "python",
      "name": "python3"
    },
    "language_info": {
      "codemirror_mode": {
        "name": "ipython",
        "version": 3
      },
      "file_extension": ".py",
      "mimetype": "text/x-python",
      "name": "python",
      "nbconvert_exporter": "python",
      "pygments_lexer": "ipython3",
      "version": "3.9.18"
    },
    "orig_nbformat": 4,
    "colab": {
      "provenance": [],
      "include_colab_link": true
    }
  },
  "nbformat": 4,
  "nbformat_minor": 0
}